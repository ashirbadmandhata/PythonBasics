{
  "nbformat": 4,
  "nbformat_minor": 0,
  "metadata": {
    "colab": {
      "provenance": []
    },
    "kernelspec": {
      "name": "python3",
      "display_name": "Python 3"
    },
    "language_info": {
      "name": "python"
    }
  },
  "cells": [
    {
      "cell_type": "markdown",
      "source": [
        "#Python basics"
      ],
      "metadata": {
        "id": "pdMHlp6zW0L2"
      }
    },
    {
      "cell_type": "markdown",
      "source": [
        "1. What is Python, and why is it popular?\n",
        "  - Python is a high-level, interpreted, and general-purpose programming language known for its simplicity and readability. It was created by Guido van Rossum and released in 1991. Python supports multiple programming paradigms, including procedural, object-oriented, and functional programming.\n",
        "  - Python is popular because of its simple syntax, versatility (used in web development, data science, AI, etc.), extensive libraries and frameworks, cross-platform compatibility, and strong community support. It’s beginner-friendly, highly in demand, and scalable for complex projects.\n",
        "\n",
        "2. What is an interpreter in Python?\n",
        "  - An interpreter in Python is a program that executes Python code line by line. It reads the source code, converts it into an intermediate form (bytecode), and then executes it directly. This allows for easier debugging and faster development since you can test code interactively without compilation.\n",
        "\n",
        "3. What are pre-defined keywords in Python ?\n",
        "  - Pre-defined keywords in Python are reserved words that have specific meanings and purposes. They cannot be used as variable names, function names, or identifiers. These keywords are part of Python's syntax and help define the structure and flow of the program.\n",
        "  - Examples of Pre-defined Keywords in Python:\n",
        "Control Flow: if, else, elif, for, while, break, continue, pass\n",
        "Data Types: True, False, None\n",
        "Functions and Classes: def, class, return, yield, lambda\n",
        "Exception Handling: try, except, finally, raise, assert\n",
        "Logical Operators: and, or, not, in, is\n",
        "Context Management: with, as\n",
        "Other Keywords: import, from, global, nonlocal, del\n",
        "\n",
        "4. Can keywords be used as variable names?\n",
        "   - No, keywords cannot be used as variable names in Python. Keywords are reserved for specific purposes in the language, and attempting to use them as variable names will result in a syntax error.\n",
        "   - Keywords are integral to the language’s syntax and are predefined to perform specific functions (e.g., if, else, while). Allowing them as variable names would lead to ambiguity in the code."
      ],
      "metadata": {
        "id": "OP5CE514XO4B"
      }
    },
    {
      "cell_type": "code",
      "source": [
        "# Example for question 4\n",
        "# Incorrect: Using a keyword as a variable name\n",
        "if = 10  # This will cause a syntax error\n",
        "\n",
        "# Correct: Using a non-keyword name as a variable\n",
        "my_var = 10  # This is valid"
      ],
      "metadata": {
        "colab": {
          "base_uri": "https://localhost:8080/",
          "height": 106
        },
        "id": "Npug96l4bFLp",
        "outputId": "75427845-8c41-49bc-b973-82aa39e48d51"
      },
      "execution_count": null,
      "outputs": [
        {
          "output_type": "error",
          "ename": "SyntaxError",
          "evalue": "invalid syntax (<ipython-input-1-74ffe3679da2>, line 3)",
          "traceback": [
            "\u001b[0;36m  File \u001b[0;32m\"<ipython-input-1-74ffe3679da2>\"\u001b[0;36m, line \u001b[0;32m3\u001b[0m\n\u001b[0;31m    if = 10  # ❌ This will cause a syntax error\u001b[0m\n\u001b[0m       ^\u001b[0m\n\u001b[0;31mSyntaxError\u001b[0m\u001b[0;31m:\u001b[0m invalid syntax\n"
          ]
        }
      ]
    },
    {
      "cell_type": "markdown",
      "source": [
        "5. What is mutability in Python?\n",
        "   - Mutability in Python refers to an object’s ability to be modified or changed after it is created. Based on this property, Python objects are categorized into:\n",
        "   Mutability in Python is about whether you can change an object after it's created.\n",
        "\n",
        "  - Mutable objects: You can change the contents of the object after it’s created.\n",
        "  - Examples: Lists, Dictionaries, Sets.\n",
        "  - Example: You can add, remove, or modify items in a list.\n",
        "\n",
        "    ```python\n",
        "    list = [1, 2, 3]\n",
        "    list[0] = 10  # Change the first item in the list\n",
        "    print(list)  # Output: [10, 2, 3]\n",
        "    ```\n",
        "\n",
        "  - Immutable objects: You cannot change the contents of the object once it's created.\n",
        "  - Examples: Strings, Tuples, Numbers.\n",
        "  - Ex: You can’t change a character in a string.\n",
        "\n",
        "    ```python\n",
        "    string = \"hello\"\n",
        "    string[0] = \"H\"  # This gives an error because strings are immutable\n",
        "    ```"
      ],
      "metadata": {
        "id": "pIKnK2f2bji8"
      }
    },
    {
      "cell_type": "markdown",
      "source": [
        "# 6. Why are lists mutable, but tuples are immutable?\n",
        "\n",
        "  - Lists are mutable because they are designed to hold things that can change. You can add, remove, or change items in a list whenever you want. Lists are flexible for situations where data needs to change over time.\n",
        "\n",
        "  Example with List (Mutable):\n",
        "  ```python\n",
        "  my_list = [1, 2, 3]\n",
        "  my_list[0] = 10  # You can change items\n",
        "  my_list.append(4)  # You can add items\n",
        "  print(my_list)  # Output: [10, 2, 3, 4]\n",
        "  ```\n",
        "\n",
        "  - Tuples are immutable because they are meant to hold data that should not change. Once a tuple is created, you can't modify it. Tuples are used when you want the data to stay safe and unchanged.\n",
        "\n",
        "  Example with Tuple (Immutable):\n",
        "  ```python\n",
        "  my_tuple = (1, 2, 3)   # my_tuple[0] = 10  # This will give an error because tuples cannot be changed\n",
        "  ```\n",
        "\n",
        " # 7. What is the difference between “==” and “is” operators in Python?\n",
        "   - In Python, both `==` and `is` are used for comparison, but they serve different purposes:\n",
        "\n",
        "    1. `==` (Equality Operator)\n",
        "    - The `==` operator checks if the values of two objects are equal.\n",
        "    - It compares the content of the objects.\n",
        "\n",
        "    Example:\n",
        "      ```python\n",
        "      a = [1, 2, 3]\n",
        "      b = [1, 2, 3]\n",
        "\n",
        "      print(a == b)  # Output: True, because the values are the same\n",
        "      ```\n",
        "\n",
        "    - Even though `a` and `b` are different objects in memory, their contents (values) are the same, so `a == b` returns True.\n",
        "\n",
        "\n",
        "  2. `is` (Identity Operator)\n",
        "   - The `is` operator checks if two objects refer to the same memory location.\n",
        "   - It compares the identity of the objects, not their content.\n",
        "\n",
        "   Example:\n",
        "    ```python\n",
        "    a = [1, 2, 3]\n",
        "    b = [1, 2, 3]\n",
        "\n",
        "    print(a is b)  # Output: False, because they are different objects in memory\n",
        "    ```\n",
        "\n",
        "    - Even though `a` and `b` have the same values, they are different objects in memory, so `a is b` returns False.\n",
        "\n"
      ],
      "metadata": {
        "id": "LrX7KaN2eHgI"
      }
    },
    {
      "cell_type": "markdown",
      "source": [
        "8. What are logical operators in Python?\n",
        "     - Logical Operators in Python: -\n",
        "      Logical operators are used to combine conditional statements or expressions and return a Boolean result (True or False). Python has three main logical operators:\n",
        "\n",
        "  1. `and`\n",
        "   - Description: Returns `True` if both conditions are True.\n",
        "   - Example:\n",
        "       ```python\n",
        "       x = 5\n",
        "       y = 10\n",
        "       print(x > 3 and y < 15)  # Output: True, both conditions are True\n",
        "       ```\n",
        "\n",
        "  2. `or`\n",
        "  - Description: Returns `True` if at least one of the conditions is `True`.\n",
        "  - Example:\n",
        "      ```python\n",
        "      x = 5\n",
        "      y = 10\n",
        "      print(x > 3 or y < 5)  # Output: True, the first condition is True\n",
        "      ```\n",
        "\n",
        " 3. `not`\n",
        "  - Description: Reverses the result. If the condition is `True`, it returns `False`, and if the condition is `False`, it returns `True`.\n",
        " - Example:\n",
        "  ```python\n",
        "  x = 5\n",
        "  print(not(x > 10))  # Output: True, because x > 10 is False, and `not` reverses it\n",
        "  ```\n",
        "\n",
        "# 9. What is type casting in Python?\n",
        "   - Type casting in Python refers to converting one data type into another. This is helpful when you need to ensure a variable is of a specific type for operations.\n",
        "\n",
        "   ### Types of Type Casting:\n",
        "\n",
        "    1. Implicit Type Casting (Type Conversion)  \n",
        "      - Python automatically converts one data type to another when required.\n",
        "      - This happens when the conversion is safe and does not lose information.\n",
        "   \n",
        "      Example:\n",
        "       ```python\n",
        "      x = 5        # int\n",
        "      y = 2.5      # float\n",
        "      result = x + y  # Python converts int to float automatically\n",
        "      print(result)  # Output: 7.5\n",
        "      ```\n",
        "\n",
        "   2. Explicit Type Casting (Manual Type Conversion)  \n",
        "     - You manually convert a value to a different type using functions like `int()`, `float()`, `str()`, etc.\n",
        "   \n",
        "     Examples:\n",
        "     - To Integer:\n",
        "       ```python\n",
        "       x = 3.14\n",
        "       y = int(x)  # Convert float to int\n",
        "       print(y)  # Output: 3\n",
        "       ```\n",
        "     - To Float:\n",
        "      ```python\n",
        "        x = \"12.34\"\n",
        "        y = float(x)  # Convert string to float\n",
        "        print(y)  # Output: 12.34\n",
        "     ```\n",
        "     - To String:\n",
        "       ```python\n",
        "       x = 100\n",
        "       y = str(x)  # Convert integer to string\n",
        "       print(y)  # Output: \"100\"\n",
        "       ```\n",
        "   - We cannot convert String data type to an integer data type it will give us\n",
        "  value error.\n",
        "      ```python\n",
        "       name = \"Ashirbad_mandhata\"\n",
        "       int_name = int(name)  # Convert string to integer\n",
        "       print(int_name)  # Output: ValueError\n",
        "       ```\n",
        "\n",
        "# 10. What is the difference between implicit and explicit type casting?\n",
        "     \n",
        "\n",
        "  #### 1. Implicit Type Casting (Automatic Type Conversion):\n",
        "  -  Python automatically converts one data type to another when needed, without any explicit instruction from the programmer.\n",
        "  -  It happens when the conversion is safe and doesn’t lose any information (like converting an integer to a float).\n",
        "  - Example:  \n",
        "   When you perform an operation with different data types, Python automatically converts them to a compatible type.\n",
        "\n",
        "     ```python\n",
        "       x = 5        # int\n",
        "       y = 2.5      # float\n",
        "       result = x + y  # x is automatically converted to float\n",
        "       print(result)  # Output: 7.5\n",
        "     ```\n",
        "\n",
        "#### 2. Explicit Type Casting (Manual Type Conversion):\n",
        "  - The programmer manually converts one data type to another using functions like `int()`, `float()`, `str()`, etc.\n",
        "  - When it happens: It happens when you need to tell Python to convert one type to another explicitly.\n",
        "  - Example:\n",
        "   You manually convert a string to an integer or a float to an integer.\n",
        "\n",
        "   ```python\n",
        "   x = 3.14\n",
        "   y = int(x)  # Manually convert float to int\n",
        "   print(y)  # Output: 3\n",
        "   ```\n",
        "\n",
        "\n",
        "11. What is the purpose of conditional statements in Python?\n",
        "    - Conditional statements in Python are used to control the flow of execution based on certain conditions. They allow your program to make decisions, execute different code blocks depending on whether a condition is true or false, and handle various situations in a flexible way.\n",
        "\n",
        "\n",
        "#12. How does the elif statement work?\n",
        "   - The `elif` (short for \"else if\") statement in Python is used to check multiple conditions in sequence. It comes after an `if` statement and allows you to specify additional conditions to check if the initial `if` condition is false. If the `if` condition is false, the program will check the `elif` condition, and if it’s true, it will execute the code inside the `elif` block.\n",
        "\n",
        "   How It Works:\n",
        "1. `if` checks the first condition.\n",
        "2. If the `if` condition is true, the code inside that block is executed, and the rest of the conditions are skipped.\n",
        "3. If the `if` condition is false, the program moves to the `elif` block and checks the next condition.\n",
        "4. You can have multiple `elif` statements to check for different conditions.\n",
        "5. If none of the `if` or `elif` conditions are true, an optional `else` block can execute.\n",
        "\n",
        "Example:\n",
        "```python\n",
        "x = 15\n",
        "\n",
        "if x > 20:\n",
        "    print(\"x is greater than 20\")\n",
        "elif x > 10:\n",
        "    print(\"x is greater than 10 but less than or equal to 20\")\n",
        "elif x > 5:\n",
        "    print(\"x is greater than 5 but less than or equal to 10\")\n",
        "else:\n",
        "    print(\"x is 5 or less\")\n",
        "```\n",
        "\n",
        " Output:\n",
        "```\n",
        "x is greater than 10 but less than or equal to 20\n",
        "```\n",
        "\n",
        "#13. What is the difference between for and while loops?\n",
        "  - The `for` loop and `while` loop are both used to repeat a block of code, but they differ in how they control the number of iterations.\n",
        "\n",
        "  `for` Loop:\n",
        "    - The `for` loop is typically used when the number of iterations is known in advance. It iterates over a sequence (such as a list, tuple, string, or range) and executes the code block for each item in the sequence.\n",
        "    - Example Use Case: Iterating through a list or performing a task a specific number of times using `range()`.\n",
        "\n",
        "  Example:\n",
        "  ```python\n",
        "  for i in range(5):  # Iterates over values 0, 1, 2, 3, 4\n",
        "      print(i)\n",
        "  ```\n",
        "\n",
        "   - The `for` loop automatically stops once it finishes iterating over the sequence or range.\n",
        "\n",
        "   `while` Loop:\n",
        "   - The `while` loop runs as long as a condition is true. It is used when the number of iterations is not known in advance, and you want the loop to continue running until a specific condition is no longer true.\n",
        "   - **Example Use Case:** Running a loop until a certain condition is met, such as waiting for user input or processing data until a specific value is reached.\n",
        "\n",
        "  Example:\n",
        "    ```python\n",
        "    count = 0\n",
        "    while count < 5:  # Loops while the condition is true\n",
        "       print(count)\n",
        "       count += 1\n",
        "    ```\n",
        "\n",
        "  - The `while` loop checks the condition before each iteration and can run indefinitely if the condition never becomes false (known as an infinite loop).\n",
        "\n",
        "  ### Key Differences:\n",
        "- The `for` loop is ideal when you know the number of iterations or are iterating over a sequence.\n",
        "- The `while` loop is ideal when you don’t know how many iterations are needed and want to loop based on a condition.\n",
        "\n",
        "\n",
        "\n",
        "\n",
        "14.  Describe a scenario where a while loop is more suitable than a for loop?\n",
        "      - Scenario: Waiting for User Input\n",
        "      - Let's say you want to keep asking a user for a valid password until they enter it correctly. In this case, the number of attempts is not predetermined, and you want to keep checking the condition (whether the password is correct) until it’s true. This is a perfect scenario for a **`while` loop**, because you don’t know how many attempts it will take for the user to provide the correct password, but you want to continue prompting them as long as the condition (correct password) is not met.\n",
        "\n",
        "     Example:\n",
        "\n",
        "     ```python\n",
        "     correct_password = \"my_secret\"\n",
        "     user_input = \"\"\n",
        "\n",
        "     while user_input != correct_password:  # Keep looping until the password is correct\n",
        "        user_input = input(\"Enter password: \")\n",
        "\n",
        "       print(\"Access granted!\")\n",
        "     ```\n",
        "\n",
        " Why a `while` loop is more suitable:\n",
        "- The loop continues to run as long as the condition (user input != correct password) is true.\n",
        "- You don’t know how many attempts the user will need, so the number of iterations isn’t predefined.\n",
        "- The loop only stops once the correct password is entered, which makes the `while` loop ideal for this scenario."
      ],
      "metadata": {
        "id": "AfYjsMmrh1XO"
      }
    },
    {
      "cell_type": "markdown",
      "source": [
        "#Pratical Questions and Answers"
      ],
      "metadata": {
        "id": "UIAm1H835urm"
      }
    },
    {
      "cell_type": "code",
      "source": [
        "#1. Write a Python program to print \"Hello, World!\n",
        "print(\"Hello, World!\")"
      ],
      "metadata": {
        "colab": {
          "base_uri": "https://localhost:8080/"
        },
        "id": "M_Ft1Dhj7lHo",
        "outputId": "b2298405-3b87-450d-e654-a694c991cbb0"
      },
      "execution_count": null,
      "outputs": [
        {
          "output_type": "stream",
          "name": "stdout",
          "text": [
            "Hello, World!\n"
          ]
        }
      ]
    },
    {
      "cell_type": "code",
      "source": [
        "#2 Write a Python program that displays your name and age\n",
        "name = \"Ashirbad Mandhata\"\n",
        "age = 23\n",
        "\n",
        "print(\"Name:\", name)\n",
        "print(\"Age:\", age)"
      ],
      "metadata": {
        "colab": {
          "base_uri": "https://localhost:8080/"
        },
        "id": "JnRvxcuI8PgT",
        "outputId": "30c74e47-e638-47f3-a2a7-4ef90cdaa547"
      },
      "execution_count": null,
      "outputs": [
        {
          "output_type": "stream",
          "name": "stdout",
          "text": [
            "Name: Ashirbad Mandhata\n",
            "Age: 23\n"
          ]
        }
      ]
    },
    {
      "cell_type": "code",
      "source": [
        "#3  Write code to print all the pre-defined keywords in Python using the keyword library\n",
        "import keyword\n",
        "\n",
        "print(\"Python Keywords:\")\n",
        "print(keyword.kwlist)\n"
      ],
      "metadata": {
        "colab": {
          "base_uri": "https://localhost:8080/"
        },
        "id": "bqGJobZC8ouX",
        "outputId": "10300721-6580-4d90-e555-f9151400ee65"
      },
      "execution_count": null,
      "outputs": [
        {
          "output_type": "stream",
          "name": "stdout",
          "text": [
            "Python Keywords:\n",
            "['False', 'None', 'True', 'and', 'as', 'assert', 'async', 'await', 'break', 'class', 'continue', 'def', 'del', 'elif', 'else', 'except', 'finally', 'for', 'from', 'global', 'if', 'import', 'in', 'is', 'lambda', 'nonlocal', 'not', 'or', 'pass', 'raise', 'return', 'try', 'while', 'with', 'yield']\n"
          ]
        }
      ]
    },
    {
      "cell_type": "code",
      "source": [
        "#4. Write a program that checks if a given word is a Python keyword\n",
        "import keyword\n",
        "\n",
        "word = input(\"Enter a word: \")\n",
        "\n",
        "if keyword.iskeyword(word):\n",
        "    print(f\"'{word}' is a Python keyword.\")\n",
        "else:\n",
        "    print(f\"'{word}' is not a Python keyword.\")\n",
        "# if you enter a key word 'if'  it will return . if is a Python keyword"
      ],
      "metadata": {
        "colab": {
          "base_uri": "https://localhost:8080/"
        },
        "id": "Cketw-Db9IRa",
        "outputId": "904861dc-af47-400f-d98a-b60c0083924d"
      },
      "execution_count": null,
      "outputs": [
        {
          "output_type": "stream",
          "name": "stdout",
          "text": [
            "Enter a word: ashirbad\n",
            "'ashirbad' is not a Python keyword.\n"
          ]
        }
      ]
    },
    {
      "cell_type": "code",
      "source": [
        "#5. Create a list and tuple in Python, and demonstrate how attempting to change an element works differently for each\n",
        "my_list = [1, 2, 3, 4, 5]\n",
        "my_tuple = (1, 2, 3, 4, 5)\n",
        "\n",
        "# Trying to change an element in the list\n",
        "print(\"Original list:\", my_list)\n",
        "my_list[2] = 10  # Changing the element at index 2\n",
        "print(\"List after modification:\", my_list)\n",
        "\n",
        "# Trying to change an element in the tuple\n",
        "print(\"Original tuple:\", my_tuple)\n",
        "\n",
        "# Tuples are immutable, so this will result in an error\n",
        "# The following line will cause a TypeError if uncommented\n",
        "# my_tuple[2] = 10  # Attempting to change the element at index 2\n"
      ],
      "metadata": {
        "colab": {
          "base_uri": "https://localhost:8080/"
        },
        "id": "SATgRlN9QX95",
        "outputId": "59bf70a1-f8f8-4099-fb66-813e9cd7af74"
      },
      "execution_count": 13,
      "outputs": [
        {
          "output_type": "stream",
          "name": "stdout",
          "text": [
            "Original list: [1, 2, 3, 4, 5]\n",
            "List after modification: [1, 2, 10, 4, 5]\n",
            "Original tuple: (1, 2, 3, 4, 5)\n"
          ]
        }
      ]
    },
    {
      "cell_type": "code",
      "source": [
        "#6 Write a function to demonstrate the behavior of mutable and immutable arguments\n",
        "def modify_data(mutable_arg, immutable_arg):\n",
        "    # Modifying the mutable argument (a list)\n",
        "    print(\"Original mutable argument:\", mutable_arg)\n",
        "    mutable_arg[1] = 100  # Modifying the first element of the list\n",
        "    print(\"Modified mutable argument:\", mutable_arg)\n",
        "\n",
        "    # Modifying the immutable argument (a string)\n",
        "    print(\"Original immutable argument:\", immutable_arg)\n",
        "    immutable_arg = \"New Value\"  # Reassigning the value of the string\n",
        "    print(\"Modified immutable argument:\", immutable_arg)\n",
        "\n",
        "# Creating a mutable argument (list) and an immutable argument (string)\n",
        "my_list = [1, 2, 3]\n",
        "my_string = \"Hello Ashirbad\"\n",
        "\n",
        "modify_data(my_list, my_string)\n",
        "\n",
        "print(\"Final value of the mutable argument (list) outside the function:\", my_list)\n",
        "print(\"Final value of the immutable argument (string) outside the function:\", my_string)\n"
      ],
      "metadata": {
        "colab": {
          "base_uri": "https://localhost:8080/"
        },
        "id": "EWgR-LL1Rnrs",
        "outputId": "77ac53ad-0d10-4b4b-966e-ef66540c8c9a"
      },
      "execution_count": 18,
      "outputs": [
        {
          "output_type": "stream",
          "name": "stdout",
          "text": [
            "Original mutable argument: [1, 2, 3]\n",
            "Modified mutable argument: [1, 100, 3]\n",
            "Original immutable argument: Hello Ashirbad\n",
            "Modified immutable argument: New Value\n",
            "Final value of the mutable argument (list) outside the function: [1, 100, 3]\n",
            "Final value of the immutable argument (string) outside the function: Hello Ashirbad\n"
          ]
        }
      ]
    },
    {
      "cell_type": "code",
      "source": [
        "#7 Write a function to demonstrate the behavior of mutable and immutable arguments\n",
        "def modify_data(mutable_arg, immutable_arg):\n",
        "    # Modifying the mutable argument (a list)\n",
        "    print(\"Original mutable argument:\", mutable_arg)\n",
        "    mutable_arg[1] = 100  # Modifying the first element of the list\n",
        "    print(\"Modified mutable argument:\", mutable_arg)\n",
        "\n",
        "    # Modifying the immutable argument (a string)\n",
        "    print(\"Original immutable argument:\", immutable_arg)\n",
        "    immutable_arg = \"New Value\"  # Reassigning the value of the string\n",
        "    print(\"Modified immutable argument:\", immutable_arg)\n",
        "\n",
        "# Creating a mutable argument (list) and an immutable argument (string)\n",
        "my_list = [1, 2, 3]\n",
        "my_string = \"Hello Ashirbad\"\n",
        "\n",
        "modify_data(my_list, my_string)\n",
        "\n",
        "print(\"Final value of the mutable argument (list) outside the function:\", my_list)\n",
        "print(\"Final value of the immutable argument (string) outside the function:\", my_string)\n"
      ],
      "metadata": {
        "colab": {
          "base_uri": "https://localhost:8080/"
        },
        "id": "2TLlIG87TK4b",
        "outputId": "202c66a6-7e7e-46d5-b172-2cd9c6ce1004"
      },
      "execution_count": 19,
      "outputs": [
        {
          "output_type": "stream",
          "name": "stdout",
          "text": [
            "Original mutable argument: [1, 2, 3]\n",
            "Modified mutable argument: [1, 100, 3]\n",
            "Original immutable argument: Hello Ashirbad\n",
            "Modified immutable argument: New Value\n",
            "Final value of the mutable argument (list) outside the function: [1, 100, 3]\n",
            "Final value of the immutable argument (string) outside the function: Hello Ashirbad\n"
          ]
        }
      ]
    },
    {
      "cell_type": "code",
      "source": [
        "#8. Write a program to demonstrate the use of logical operators\n",
        "x = 8\n",
        "y = 12\n",
        "z = 15\n",
        "\n",
        "# Using 'and' logical operator\n",
        "print(\"Using 'and' operator:\")\n",
        "if x < y and z > y:\n",
        "    print(f\"Both conditions are true: x < y ({x < y}) and z > y ({z > y})\")\n",
        "\n",
        "# Using 'or' logical operator\n",
        "print(\"\\nUsing 'or' operator:\")\n",
        "if x > y or z > y:\n",
        "    print(f\"At least one condition is true: x > y ({x > y}) or z > y ({z > y})\")\n",
        "\n",
        "# Using 'not' logical operator\n",
        "print(\"\\nUsing 'not' operator:\")\n",
        "if not (x > y):\n",
        "    print(f\"Condition x > y is false, so 'not' makes it true: x > y ({x > y})\")\n",
        "\n",
        "# Combining multiple logical operators\n",
        "print(\"\\nCombining logical operators:\")\n",
        "if x < y and (z > y or y == 12):\n",
        "    print(f\"Combination of 'and' and 'or' is true: x < y ({x < y}), z > y ({z > y}) or y == 12 ({y == 12})\")\n"
      ],
      "metadata": {
        "colab": {
          "base_uri": "https://localhost:8080/"
        },
        "id": "tH4iwd0tTZYI",
        "outputId": "88dafb17-db24-4a49-f6ca-9b2acbcddc74"
      },
      "execution_count": 21,
      "outputs": [
        {
          "output_type": "stream",
          "name": "stdout",
          "text": [
            "Using 'and' operator:\n",
            "Both conditions are true: x < y (True) and z > y (True)\n",
            "\n",
            "Using 'or' operator:\n",
            "At least one condition is true: x > y (False) or z > y (True)\n",
            "\n",
            "Using 'not' operator:\n",
            "Condition x > y is false, so 'not' makes it true: x > y (False)\n",
            "\n",
            "Combining logical operators:\n",
            "Combination of 'and' and 'or' is true: x < y (True), z > y (True) or y == 12 (True)\n"
          ]
        }
      ]
    },
    {
      "cell_type": "code",
      "source": [
        "#9. Write a Python program to convert user input from string to integer, float, and boolean types\n",
        "\n",
        "user_input = input(\"Enter something: \")\n",
        "\n",
        "# Converting string to integer (if possible)\n",
        "if user_input.isdigit():  # Check if the input consists of digits\n",
        "    user_input_int = int(user_input)\n",
        "    print(f\"Converted to integer: {user_input_int}\")\n",
        "else:\n",
        "    print(\"Cannot convert to integer.\")\n",
        "\n",
        "# Converting string to float (if possible)\n",
        "if user_input.replace('.', '', 1).isdigit() and user_input.count('.') < 2:  # Check if it can be converted to float\n",
        "    user_input_float = float(user_input)\n",
        "    print(f\"Converted to float: {user_input_float}\")\n",
        "else:\n",
        "    print(\"Cannot convert to float.\")\n",
        "\n",
        "# Converting string to boolean\n",
        "if user_input.lower() == \"true\":\n",
        "    user_input_bool = True\n",
        "elif user_input.lower() == \"false\":\n",
        "    user_input_bool = False\n",
        "else:\n",
        "    user_input_bool = bool(user_input)  # Converts non-empty string to True, empty string to False\n",
        "\n",
        "print(f\"Converted to boolean: {user_input_bool}\")\n",
        "\n"
      ],
      "metadata": {
        "colab": {
          "base_uri": "https://localhost:8080/"
        },
        "id": "EMiDK11jUtLO",
        "outputId": "42ad3a1c-c6c2-4a5b-c39e-cb547a2dcf44"
      },
      "execution_count": 31,
      "outputs": [
        {
          "output_type": "stream",
          "name": "stdout",
          "text": [
            "Enter something: ashirbad\n",
            "Cannot convert to integer.\n",
            "Cannot convert to float.\n",
            "Converted to boolean: True\n"
          ]
        }
      ]
    },
    {
      "cell_type": "code",
      "source": [
        "#10 Write code to demonstrate type casting with list elements\n",
        "\n",
        "\n",
        "my_list = ['10', '20.5', 'True', 'False', 'Ashirbad']\n",
        "\n",
        "# Convert elements to integer, float, boolean, or string where applicable\n",
        "converted_list = []\n",
        "\n",
        "for item in my_list:\n",
        "    if item.isdigit():  # Convert to integer if it's a whole number\n",
        "        converted_list.append(int(item))\n",
        "    elif item.replace('.', '', 1).isdigit() and item.count('.') == 1:  # Convert to float if it's a decimal number\n",
        "        converted_list.append(float(item))\n",
        "    elif item.lower() == 'true':  # Convert to boolean True\n",
        "        converted_list.append(True)\n",
        "    elif item.lower() == 'false':  # Convert to boolean False\n",
        "        converted_list.append(False)\n",
        "    else:  # Keep as string\n",
        "        converted_list.append(item)\n",
        "\n",
        "# Display results\n",
        "print(\"Original list:\", my_list)\n",
        "print(\"Converted list:\", converted_list)\n",
        "\n",
        "\n"
      ],
      "metadata": {
        "colab": {
          "base_uri": "https://localhost:8080/"
        },
        "id": "C4MnxMl7XccD",
        "outputId": "067021ff-4c98-402f-e4ec-4f2c3d4575e8"
      },
      "execution_count": 37,
      "outputs": [
        {
          "output_type": "stream",
          "name": "stdout",
          "text": [
            "Original list: ['10', '20.5', 'True', 'False', 'Ashirbad']\n",
            "Converted list: [10, 20.5, True, False, 'Ashirbad']\n"
          ]
        }
      ]
    },
    {
      "cell_type": "code",
      "source": [
        "#11.  Write a program that checks if a number is positive, negative, or zero\n",
        "\n",
        "number = float(input(\"Enter a number: \"))\n",
        "\n",
        "# Check if the number is positive, negative, or zero\n",
        "if number > 0:\n",
        "    print(f\"The number {number} is positive.\")\n",
        "elif number < 0:\n",
        "    print(f\"The number {number} is negative.\")\n",
        "else:\n",
        "    print(\"The number is zero.\")\n"
      ],
      "metadata": {
        "colab": {
          "base_uri": "https://localhost:8080/"
        },
        "id": "F6OAezi9cLzh",
        "outputId": "7a70f833-90e9-4c10-ef68-d4ef81b94a4a"
      },
      "execution_count": 40,
      "outputs": [
        {
          "output_type": "stream",
          "name": "stdout",
          "text": [
            "Enter a number: 0\n",
            "The number is zero.\n"
          ]
        }
      ]
    },
    {
      "cell_type": "code",
      "source": [
        "#12 Write a for loop to print numbers from 1 to 10\n",
        "\n",
        "for number in range(1,11):\n",
        "  print(number)"
      ],
      "metadata": {
        "colab": {
          "base_uri": "https://localhost:8080/"
        },
        "id": "fgATTskVdHso",
        "outputId": "802584bf-035f-4954-e030-e4bbe6ad9ff5"
      },
      "execution_count": 41,
      "outputs": [
        {
          "output_type": "stream",
          "name": "stdout",
          "text": [
            "1\n",
            "2\n",
            "3\n",
            "4\n",
            "5\n",
            "6\n",
            "7\n",
            "8\n",
            "9\n",
            "10\n"
          ]
        }
      ]
    },
    {
      "cell_type": "code",
      "source": [
        "#13. Write a Python program to find the sum of all even numbers between 1 and 50\n",
        "# Initialize a variable to store the sum\n",
        "sum_of_evens = 0\n",
        "\n",
        "for number in range(1, 51):\n",
        "    if number % 2 == 0:\n",
        "        sum_of_evens += number\n",
        "\n",
        "print(\"The sum of all even numbers between 1 and 50 is:\", sum_of_evens)\n"
      ],
      "metadata": {
        "colab": {
          "base_uri": "https://localhost:8080/"
        },
        "id": "BsJ6h1S3d22w",
        "outputId": "1ef668b8-a439-4292-dd1b-e0bb4e7ad6f8"
      },
      "execution_count": 43,
      "outputs": [
        {
          "output_type": "stream",
          "name": "stdout",
          "text": [
            "The sum of all even numbers between 1 and 50 is: 650\n"
          ]
        }
      ]
    },
    {
      "cell_type": "code",
      "source": [
        "#14. Write a program to reverse a string using a while loop\n",
        "\n",
        "original_string = input(\"Enter a string: \")\n",
        "\n",
        "rev_str = \"\"\n",
        "index = len(original_string) - 1\n",
        "\n",
        "while index >= 0:\n",
        "    rev_str += original_string[index]\n",
        "    index -= 1\n",
        "\n",
        "print(\"Reversed string:\", rev_str)\n"
      ],
      "metadata": {
        "colab": {
          "base_uri": "https://localhost:8080/"
        },
        "id": "UQR3UcNmelTe",
        "outputId": "329d433a-98ba-403d-af22-ec0593173c4b"
      },
      "execution_count": 48,
      "outputs": [
        {
          "output_type": "stream",
          "name": "stdout",
          "text": [
            "Enter a string: Data\n",
            "Reversed string: ataD\n"
          ]
        }
      ]
    },
    {
      "cell_type": "code",
      "source": [
        "#15. Write a Python program to calculate the factorial of a number provided by the user using a while loop\n",
        "\n",
        "number = int(input(\"Enter a non-negative integer: \"))\n",
        "\n",
        "factorial = 1\n",
        "current = number\n",
        "\n",
        "if number < 0:\n",
        "    print(\"Factorial is not defined for negative numbers.\")\n",
        "else:\n",
        "    while current > 0:\n",
        "        factorial *= current\n",
        "        current -= 1\n",
        "\n",
        "    print(f\"The factorial of {number} is: {factorial}\")\n"
      ],
      "metadata": {
        "colab": {
          "base_uri": "https://localhost:8080/"
        },
        "id": "yLF_9OvGfrIT",
        "outputId": "11f29107-524f-401a-f938-40a890c5a43b"
      },
      "execution_count": 50,
      "outputs": [
        {
          "output_type": "stream",
          "name": "stdout",
          "text": [
            "Enter a non-negative integer: 3\n",
            "The factorial of 3 is: 6\n"
          ]
        }
      ]
    }
  ]
}